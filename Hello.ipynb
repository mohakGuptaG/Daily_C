{
  "nbformat": 4,
  "nbformat_minor": 0,
  "metadata": {
    "colab": {
      "provenance": [],
      "authorship_tag": "ABX9TyOYJt8HNzwzQDgY2WV4kKAp"
    },
    "kernelspec": {
      "name": "python3",
      "display_name": "Python 3"
    },
    "language_info": {
      "name": "python"
    }
  },
  "cells": [
    {
      "cell_type": "code",
      "execution_count": 2,
      "metadata": {
        "colab": {
          "base_uri": "https://localhost:8080/"
        },
        "id": "mP2LSi0KHIjR",
        "outputId": "75f2a526-3fba-4b7e-8fc5-6dd27f6019dd"
      },
      "outputs": [
        {
          "output_type": "stream",
          "name": "stdout",
          "text": [
            "Hi it's me Mohak!\n"
          ]
        }
      ],
      "source": [
        "print(\"Hi it's me Mohak!\")"
      ]
    }
  ]
}